{
 "cells": [
  {
   "cell_type": "code",
   "execution_count": 2,
   "id": "noticed-richardson",
   "metadata": {},
   "outputs": [
    {
     "name": "stdout",
     "output_type": "stream",
     "text": [
      "True\n",
      "1\n",
      "12.1\n"
     ]
    }
   ],
   "source": [
    "import torch\n",
    "print(torch.cuda.is_available())\n",
    "print(torch.cuda.device_count())\n",
    "print(torch.version.cuda)\n",
    "\n"
   ]
  },
  {
   "cell_type": "markdown",
   "id": "95e9ea14",
   "metadata": {},
   "source": [
    "# U-Net Model"
   ]
  },
  {
   "cell_type": "code",
   "execution_count": 3,
   "id": "a5d274d5",
   "metadata": {},
   "outputs": [],
   "source": [
    "class DoubleConv(torch.nn.Module):\n",
    "    def __init__(self, in_channels, out_channels):\n",
    "        super().__init__()\n",
    "        self.step = torch.nn.Sequential(\n",
    "            torch.nn.Conv2d(in_channels, out_channels, kernel_size = 3, padding = 1),\n",
    "            torch.nn.ReLU(),\n",
    "            torch.nn.Conv2d(out_channels, out_channels, kernel_size = 3, padding = 1),\n",
    "            torch.nn.ReLU()\n",
    "        )\n",
    "\n",
    "\n",
    "    def forward(self, X):\n",
    "        return self.step(X)"
   ]
  },
  {
   "cell_type": "code",
   "execution_count": 4,
   "id": "16773f08",
   "metadata": {},
   "outputs": [],
   "source": [
    "class UNet(torch.nn.Module):\n",
    "    def __init__(self):\n",
    "        super().__init__()\n",
    "        # Encoding Layers\n",
    "        self.layer1 = DoubleConv(in_channels = 1, out_channels = 64)\n",
    "        self.layer2 = DoubleConv(in_channels = 64, out_channels = 128)\n",
    "        self.layer3 = DoubleConv(in_channels = 128, out_channels = 256)\n",
    "        self.layer4 = DoubleConv(in_channels = 256, out_channels = 512)\n",
    "\n",
    "        # Decoding Layers\n",
    "        self.layer5 = DoubleConv(in_channels = 512+256, out_channels = 256) # verbunden mit layer3\n",
    "        self.layer6 = DoubleConv(in_channels = 256+128, out_channels = 128) # verbunden mit layer2\n",
    "        self.layer7 = DoubleConv(in_channels = 128+64, out_channels = 64) # verbunden mit layer1\n",
    "        self.layer8 = torch.nn.Conv2d(in_channels = 64, out_channels = 1, kernel_size = 1)\n",
    "\n",
    "        # Pooling\n",
    "        self.maxpool = torch.nn.MaxPool2d(2)\n",
    "\n",
    "    def forward(self, x):\n",
    "        # Encoding Layers\n",
    "        x1 = self.layer1(x)\n",
    "        x1m = self.maxpool(x1)\n",
    "\n",
    "        x2 = self.layer2(x1m)\n",
    "        x2m = self.maxpool(x2)\n",
    "\n",
    "        x3 = self.layer3(x2m)\n",
    "        x3m = self.maxpool(x3)\n",
    "\n",
    "        x4 = self.layer4(x3m)\n",
    "\n",
    "        # Decoding Layers\n",
    "        x5 = torch.nn.Upsample(scale_factor=2, mode=\"bilinear\")(x4) # Upsample x4\n",
    "        x5 = torch.cat([x5, x3], dim=1) # konkatinierte features: verbindung zwischen layer5 und layer3. Channel dim = 1\n",
    "        x5 = self.layer5(x5)\n",
    "\n",
    "        x6 = torch.nn.Upsample(scale_factor=2, mode=\"bilinear\")(x5) \n",
    "        x6 = torch.cat([x6, x2], dim=1) \n",
    "        x6 = self.layer6(x6)\n",
    "\n",
    "        x7 = torch.nn.Upsample(scale_factor=2, mode=\"bilinear\")(x6) \n",
    "        x7 = torch.cat([x7, x1], dim=1) \n",
    "        x7 = self.layer7(x7)\n",
    "\n",
    "        ret = self.layer8(x7)\n",
    "\n",
    "        return ret"
   ]
  },
  {
   "cell_type": "code",
   "execution_count": 5,
   "id": "e5bda3b0",
   "metadata": {},
   "outputs": [],
   "source": [
    "model = UNet()\n",
    "\n",
    "random_input = torch.randn(1,1,256,256) # (batch size, channel dimension, pixel width, pixel height)\n",
    "output = model(random_input)\n",
    "assert output.shape == torch.Size([1,1,256,256])\n"
   ]
  },
  {
   "cell_type": "markdown",
   "id": "424a5574",
   "metadata": {},
   "source": [
    "# Training"
   ]
  },
  {
   "cell_type": "code",
   "execution_count": 6,
   "id": "cb9f9776",
   "metadata": {},
   "outputs": [
    {
     "name": "stderr",
     "output_type": "stream",
     "text": [
      "c:\\Users\\Flori\\anaconda3\\envs\\udemy\\lib\\site-packages\\scipy\\__init__.py:146: UserWarning: A NumPy version >=1.16.5 and <1.23.0 is required for this version of SciPy (detected version 1.24.3\n",
      "  warnings.warn(f\"A NumPy version >={np_minversion} and <{np_maxversion}\"\n"
     ]
    }
   ],
   "source": [
    "from pathlib import Path\n",
    "\n",
    "import torch\n",
    "import pytorch_lightning as pl\n",
    "from pytorch_lightning.callbacks import ModelCheckpoint\n",
    "from pytorch_lightning.loggers import TensorBoardLogger\n",
    "import imgaug.augmenters as iaa\n",
    "import numpy as np\n",
    "import matplotlib.pyplot as plt\n",
    "\n",
    "from dataset import CardiacDataset"
   ]
  },
  {
   "cell_type": "markdown",
   "id": "eb91d13e",
   "metadata": {},
   "source": [
    "### Augmentation Pipeline\n",
    "Zufällige Transformationen um robuster zu lernen"
   ]
  },
  {
   "cell_type": "code",
   "execution_count": 7,
   "id": "970f454a",
   "metadata": {},
   "outputs": [],
   "source": [
    "seq = iaa.Sequential([\n",
    "    iaa.Affine(scale=(0.85, 1.15), # Zoom in or out\n",
    "               rotate=(-45, 45)),  # Rotate up to 45 degrees\n",
    "    iaa.ElasticTransformation()  # Random Elastic Deformations\n",
    "])"
   ]
  },
  {
   "cell_type": "markdown",
   "id": "f75bf171",
   "metadata": {},
   "source": [
    "### Dataset"
   ]
  },
  {
   "cell_type": "code",
   "execution_count": 8,
   "id": "3196ece0",
   "metadata": {},
   "outputs": [],
   "source": [
    "train_path = Path(\"Preprocessed/train/\")\n",
    "val_path = Path(\"Preprocessed/val/\")\n",
    "\n",
    "train_dataset = CardiacDataset(train_path, seq) # nur das train dataset wird augmented\n",
    "val_dataset = CardiacDataset(val_path, None)"
   ]
  },
  {
   "cell_type": "markdown",
   "id": "ec4dfa91",
   "metadata": {},
   "source": [
    "### Dataloader"
   ]
  },
  {
   "cell_type": "code",
   "execution_count": 9,
   "id": "9e143327",
   "metadata": {},
   "outputs": [],
   "source": [
    "batch_size = 8\n",
    "num_workers = 4\n",
    "\n",
    "train_loader = torch.utils.data.DataLoader(train_dataset, batch_size=batch_size, num_workers=num_workers,shuffle=True)\n",
    "val_loader = torch.utils.data.DataLoader(val_dataset, batch_size=batch_size, num_workers=num_workers, shuffle=False)"
   ]
  },
  {
   "cell_type": "markdown",
   "id": "cb61278a",
   "metadata": {},
   "source": [
    "### Custom Lossfunction (Dice Loss)"
   ]
  },
  {
   "cell_type": "code",
   "execution_count": 10,
   "id": "43a37e89",
   "metadata": {},
   "outputs": [],
   "source": [
    "class DiceLoss(torch.nn.Module):\n",
    "    def __init__(self):\n",
    "        super().__init__()\n",
    "\n",
    "    def forward(self, pred, mask): # predicted segmentation, real segmentation\n",
    "        pred = torch.flatten(pred)\n",
    "        mask = torch.flatten(mask)\n",
    "\n",
    "        counter = (pred * mask).sum()\n",
    "        denum = pred.sum() + mask.sum() + 1e-8 #  1e-8, so that we never divide by 0\n",
    "        dice = (2*counter) / denum\n",
    "        return 1 - dice"
   ]
  },
  {
   "cell_type": "code",
   "execution_count": 18,
   "id": "dcf37941",
   "metadata": {},
   "outputs": [],
   "source": [
    "class BrainTumorSegmentation(pl.LightningModule):\n",
    "    def __init__(self):\n",
    "        super().__init__()\n",
    "\n",
    "        self.model = UNet()\n",
    "\n",
    "        self.optimizer = torch.optim.Adam(self.model.parameters(), lr= 1e-4)\n",
    "        self.loss_fn = DiceLoss()\n",
    "\n",
    "    def forward(self, data):\n",
    "        return torch.sigmoid(self.model(data))\n",
    "    \n",
    "    def training_step(self, batch, batch_idx):\n",
    "        mri, mask = batch              \n",
    "        mask = mask.float() # real segmentation\n",
    "        pred = self(mri) # predicted segmentation\n",
    "\n",
    "        loss = self.loss_fn(pred, mask)\n",
    "\n",
    "        self.log(\"Train Dice\", loss)\n",
    "\n",
    "        if batch_idx % 50 == 0:\n",
    "            self.log_images(mri.cpu(), pred.cpu(), mask.cpu(), \"Train\")\n",
    "\n",
    "        return loss\n",
    "    \n",
    "    def validation_step(self, batch, batch_idx):\n",
    "        mri, mask = batch              \n",
    "        mask = mask.float() # real segmentation\n",
    "        pred = self(mri) # predicted segmentation\n",
    "\n",
    "        loss = self.loss_fn(pred, mask)\n",
    "\n",
    "        self.log(\"Val Dice\", loss)\n",
    "\n",
    "        if batch_idx % 2 == 0:\n",
    "            self.log_images(mri.cpu(), pred.cpu(), mask.cpu(), \"Val\")\n",
    "\n",
    "        return loss\n",
    "    \n",
    "    def log_images(self, mri, pred, mask, name):\n",
    "\n",
    "        pred = pred > 0.5 # Only pixels with pred > 0.5 are is segmantation class (Threshholding)\n",
    "        \n",
    "        fig, axis = plt.subplots(1, 2)\n",
    "        axis[0].imshow(mri[0][0], cmap=\"bone\")\n",
    "        mask_ = np.ma.masked_where(mask[0][0] == 0, mask[0][0])\n",
    "        axis[0].imshow(mask_, alpha=0.6)\n",
    "        \n",
    "        axis[1].imshow(mri[0][0], cmap=\"bone\")\n",
    "        mask_ = np.ma.masked_where(pred[0][0] == 0, pred[0][0])\n",
    "        axis[1].imshow(mask_, alpha=0.6)\n",
    "        \n",
    "        self.logger.experiment.add_figure(name, fig, self.global_step)\n",
    "\n",
    "\n",
    "    def configure_optimizers(self):\n",
    "        return [self.optimizer]"
   ]
  },
  {
   "cell_type": "code",
   "execution_count": 19,
   "id": "c986e5a2",
   "metadata": {},
   "outputs": [],
   "source": [
    "torch.manual_seed(0)\n",
    "model = BrainTumorSegmentation()"
   ]
  },
  {
   "cell_type": "code",
   "execution_count": 20,
   "id": "d72bad33",
   "metadata": {},
   "outputs": [],
   "source": [
    "checkpoint_callback = ModelCheckpoint(monitor=\"Val Dice\", save_top_k=10, mode=\"min\")"
   ]
  },
  {
   "cell_type": "code",
   "execution_count": 21,
   "id": "5adddf76",
   "metadata": {},
   "outputs": [
    {
     "name": "stderr",
     "output_type": "stream",
     "text": [
      "GPU available: True (cuda), used: True\n",
      "TPU available: False, using: 0 TPU cores\n",
      "IPU available: False, using: 0 IPUs\n",
      "HPU available: False, using: 0 HPUs\n"
     ]
    }
   ],
   "source": [
    "trainer = pl.Trainer(devices=1, accelerator=\"gpu\", logger=TensorBoardLogger(save_dir=\"logs\"), log_every_n_steps=1, callbacks = checkpoint_callback, max_epochs=75)"
   ]
  },
  {
   "cell_type": "code",
   "execution_count": 22,
   "id": "2eebca6d",
   "metadata": {},
   "outputs": [
    {
     "name": "stderr",
     "output_type": "stream",
     "text": [
      "LOCAL_RANK: 0 - CUDA_VISIBLE_DEVICES: [0]\n",
      "\n",
      "  | Name    | Type     | Params\n",
      "-------------------------------------\n",
      "0 | model   | UNet     | 7.8 M \n",
      "1 | loss_fn | DiceLoss | 0     \n",
      "-------------------------------------\n",
      "7.8 M     Trainable params\n",
      "0         Non-trainable params\n",
      "7.8 M     Total params\n",
      "31.127    Total estimated model params size (MB)\n"
     ]
    },
    {
     "data": {
      "application/vnd.jupyter.widget-view+json": {
       "model_id": "582a89b94c7c43d8a81756d95c9176ec",
       "version_major": 2,
       "version_minor": 0
      },
      "text/plain": [
       "Sanity Checking: |          | 0/? [00:00<?, ?it/s]"
      ]
     },
     "metadata": {},
     "output_type": "display_data"
    },
    {
     "name": "stderr",
     "output_type": "stream",
     "text": [
      "c:\\Users\\Flori\\anaconda3\\envs\\udemy\\lib\\site-packages\\matplotlib\\image.py:443: UserWarning: Warning: converting a masked element to nan.\n",
      "  dv = np.float64(self.norm.vmax) - np.float64(self.norm.vmin)\n",
      "c:\\Users\\Flori\\anaconda3\\envs\\udemy\\lib\\site-packages\\matplotlib\\image.py:444: UserWarning: Warning: converting a masked element to nan.\n",
      "  vmid = np.float64(self.norm.vmin) + dv / 2\n",
      "c:\\Users\\Flori\\anaconda3\\envs\\udemy\\lib\\site-packages\\pytorch_lightning\\trainer\\connectors\\data_connector.py:436: Consider setting `persistent_workers=True` in 'train_dataloader' to speed up the dataloader worker initialization.\n"
     ]
    },
    {
     "data": {
      "application/vnd.jupyter.widget-view+json": {
       "model_id": "ad447ba444504ec7b212e2febcbc4a52",
       "version_major": 2,
       "version_minor": 0
      },
      "text/plain": [
       "Training: |          | 0/? [00:00<?, ?it/s]"
      ]
     },
     "metadata": {},
     "output_type": "display_data"
    },
    {
     "data": {
      "application/vnd.jupyter.widget-view+json": {
       "model_id": "f446265211614c3397f566fc4aaceb32",
       "version_major": 2,
       "version_minor": 0
      },
      "text/plain": [
       "Validation: |          | 0/? [00:00<?, ?it/s]"
      ]
     },
     "metadata": {},
     "output_type": "display_data"
    },
    {
     "data": {
      "application/vnd.jupyter.widget-view+json": {
       "model_id": "5854f07b0fe2422cac98526891a47363",
       "version_major": 2,
       "version_minor": 0
      },
      "text/plain": [
       "Validation: |          | 0/? [00:00<?, ?it/s]"
      ]
     },
     "metadata": {},
     "output_type": "display_data"
    },
    {
     "data": {
      "application/vnd.jupyter.widget-view+json": {
       "model_id": "a4622feb8aea4286a7bc2321bf3437b7",
       "version_major": 2,
       "version_minor": 0
      },
      "text/plain": [
       "Validation: |          | 0/? [00:00<?, ?it/s]"
      ]
     },
     "metadata": {},
     "output_type": "display_data"
    },
    {
     "data": {
      "application/vnd.jupyter.widget-view+json": {
       "model_id": "9201211cb3564e6e889b40782c562bc1",
       "version_major": 2,
       "version_minor": 0
      },
      "text/plain": [
       "Validation: |          | 0/? [00:00<?, ?it/s]"
      ]
     },
     "metadata": {},
     "output_type": "display_data"
    },
    {
     "data": {
      "application/vnd.jupyter.widget-view+json": {
       "model_id": "c8f1aacc8b5f49fdb6860e5b0376fad7",
       "version_major": 2,
       "version_minor": 0
      },
      "text/plain": [
       "Validation: |          | 0/? [00:00<?, ?it/s]"
      ]
     },
     "metadata": {},
     "output_type": "display_data"
    },
    {
     "name": "stderr",
     "output_type": "stream",
     "text": [
      "c:\\Users\\Flori\\anaconda3\\envs\\udemy\\lib\\site-packages\\pytorch_lightning\\trainer\\call.py:54: Detected KeyboardInterrupt, attempting graceful shutdown...\n"
     ]
    }
   ],
   "source": [
    "trainer.fit(model, train_loader, val_loader)"
   ]
  }
 ],
 "metadata": {
  "kernelspec": {
   "display_name": "Python 3 (ipykernel)",
   "language": "python",
   "name": "python3"
  },
  "language_info": {
   "codemirror_mode": {
    "name": "ipython",
    "version": 3
   },
   "file_extension": ".py",
   "mimetype": "text/x-python",
   "name": "python",
   "nbconvert_exporter": "python",
   "pygments_lexer": "ipython3",
   "version": "3.8.12"
  }
 },
 "nbformat": 4,
 "nbformat_minor": 5
}
