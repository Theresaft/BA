{
 "cells": [
  {
   "cell_type": "code",
   "execution_count": 1,
   "metadata": {},
   "outputs": [],
   "source": [
    "import torch\n",
    "import pytorch_lightning as pl\n",
    "from pytorch_lightning.callbacks import ModelCheckpoint\n",
    "from pytorch_lightning.loggers import TensorBoardLogger\n",
    "import torchio as tio\n",
    "from pathlib import Path\n",
    "import matplotlib.pyplot as plt\n",
    "import numpy as np\n",
    "from tqdm.notebook import tqdm\n",
    "import torch.nn.functional as F\n",
    "import os\n",
    "import shutil\n",
    "import csv\n",
    "\n",
    "from segmenter import Segmenter"
   ]
  },
  {
   "cell_type": "code",
   "execution_count": 2,
   "metadata": {},
   "outputs": [],
   "source": [
    "version_folder = \"version_34\"\n",
    "device = \"cuda\"\n",
    "root = \"C:/Users/denni/Documents/MedicalDecathlon/Logs/lightning_logs/\"\n",
    "data_root = \"C:/Users/denni/Documents/MedicalDecathlon/Task01_BrainTumour/\"\n",
    "output_images_root = \"C:/Users/denni/Documents/MedicalDecathlon/eval/\" + version_folder\n",
    "slices_to_show = [30, 40, 50, 60, 70, 80, 90, 100, 110]"
   ]
  },
  {
   "cell_type": "code",
   "execution_count": 5,
   "metadata": {},
   "outputs": [
    {
     "name": "stderr",
     "output_type": "stream",
     "text": [
      "C:\\Users\\denni\\AppData\\Roaming\\Python\\Python39\\site-packages\\pytorch_lightning\\utilities\\parsing.py:199: Attribute 'activation_fn' is an instance of `nn.Module` and is already saved during checkpointing. It is recommended to ignore them using `self.save_hyperparameters(ignore=['activation_fn'])`.\n"
     ]
    }
   ],
   "source": [
    "path = Path(root + version_folder + \"/checkpoints/epoch=1-step=1028.ckpt\")\n",
    "model = Segmenter.load_from_checkpoint(path, learning_rate_decay=1, dropout_probability=0)"
   ]
  },
  {
   "cell_type": "code",
   "execution_count": 6,
   "metadata": {},
   "outputs": [
    {
     "data": {
      "text/plain": [
       "\"activation_fn\":         ReLU()\n",
       "\"batch_size\":            4\n",
       "\"cross_entropy_weights\": tensor([1., 1., 1., 1.])\n",
       "\"dropout_probability\":   0\n",
       "\"in_channels\":           4\n",
       "\"label_probabilities\":   {0: 0.4, 1: 0.3, 2: 0.2, 3: 0.1}\n",
       "\"learning_rate\":         0.002\n",
       "\"learning_rate_decay\":   1\n",
       "\"odd_kernel_size\":       3\n",
       "\"out_channels\":          4\n",
       "\"patch_size\":            96\n",
       "\"samples_per_volume\":    5"
      ]
     },
     "execution_count": 6,
     "metadata": {},
     "output_type": "execute_result"
    }
   ],
   "source": [
    "model.hparams"
   ]
  },
  {
   "cell_type": "code",
   "execution_count": null,
   "metadata": {},
   "outputs": [],
   "source": []
  }
 ],
 "metadata": {
  "kernelspec": {
   "display_name": "base",
   "language": "python",
   "name": "python3"
  },
  "language_info": {
   "codemirror_mode": {
    "name": "ipython",
    "version": 3
   },
   "file_extension": ".py",
   "mimetype": "text/x-python",
   "name": "python",
   "nbconvert_exporter": "python",
   "pygments_lexer": "ipython3",
   "version": "3.9.12"
  }
 },
 "nbformat": 4,
 "nbformat_minor": 2
}
